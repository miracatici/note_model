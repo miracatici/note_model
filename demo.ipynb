{
 "cells": [
  {
   "cell_type": "code",
   "execution_count": null,
   "metadata": {
    "collapsed": false
   },
   "outputs": [],
   "source": [
    "%matplotlib inline\n",
    "\n",
    "import json\n",
    "\n",
    "from pitchfilter.pitchfilter import PitchPostFilter\n",
    "from tonic_identifier.tonic_identifier import TonicLastNote\n",
    "from note_model.NoteModel import NoteModel"
   ]
  },
  {
   "cell_type": "code",
   "execution_count": null,
   "metadata": {
    "collapsed": false
   },
   "outputs": [],
   "source": [
    "# inputs; pitch track and makam of the recording\n",
    "rec_makam = \"nihavent\"\n",
    "pitch = json.load(open(\"sample_data/feda89e3-a50d-4ff8-87d4-c1e531cc1233.json\", 'r'))['pitch']\n",
    "\n",
    "# Extra: Postprocess the pitch track to get rid of spurious pitch estimations and correct octave errors\n",
    "flt = PitchPostFilter()\n",
    "pitch = flt.run(pitch)\n"
   ]
  },
  {
   "cell_type": "code",
   "execution_count": null,
   "metadata": {
    "collapsed": true
   },
   "outputs": [],
   "source": [
    "# run tonic identification using last note detection\n",
    "tonic_identifier = TonicLastNote()\n",
    "tonic, pitch, pitch_chunks, distribution, sp = tonic_identifier.identify(pitch)\n",
    "tonic_hz = tonic[\"value\"]\n"
   ]
  },
  {
   "cell_type": "code",
   "execution_count": null,
   "metadata": {
    "collapsed": false
   },
   "outputs": [],
   "source": [
    "# Obtain the the stable notes\n",
    "stablenotes = NoteModel.calculate_notes(distribution, tonic_hz, rec_makam)\n",
    "NoteModel.plot(distribution, stablenotes)\n"
   ]
  },
  {
   "cell_type": "code",
   "execution_count": null,
   "metadata": {
    "collapsed": true
   },
   "outputs": [],
   "source": []
  }
 ],
 "metadata": {
  "kernelspec": {
   "display_name": "Python 2",
   "language": "python",
   "name": "python2"
  },
  "language_info": {
   "codemirror_mode": {
    "name": "ipython",
    "version": 2
   },
   "file_extension": ".py",
   "mimetype": "text/x-python",
   "name": "python",
   "nbconvert_exporter": "python",
   "pygments_lexer": "ipython2",
   "version": "2.7.6"
  }
 },
 "nbformat": 4,
 "nbformat_minor": 0
}
