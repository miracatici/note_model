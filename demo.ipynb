{
 "cells": [
  {
   "cell_type": "code",
   "execution_count": 1,
   "metadata": {
    "collapsed": false
   },
   "outputs": [],
   "source": [
    "import json\n",
    "from tonic_identifier.tonic_identifier import TonicLastNote\n",
    "from note_model.NoteModel import NoteModel"
   ]
  },
  {
   "cell_type": "code",
   "execution_count": 2,
   "metadata": {
    "collapsed": false
   },
   "outputs": [
    {
     "name": "stdout",
     "output_type": "stream",
     "text": [
      "gevşet\n",
      "gevşet\n",
      "dügâh\n",
      "segâh\n",
      "nim hicaz\n",
      "nevâ\n",
      "nevâ\n",
      "dik hisar\n",
      "dik mâhur\n",
      "dik şehnaz\n",
      "dik sünbüle\n",
      "tiz hicaz\n",
      "tiz hisar\n",
      "tiz acem\n",
      "tiz dik mâhur\n",
      "{'dik s\\xc3\\xbcnb\\xc3\\xbcle': {}, 'dik \\xc5\\x9fehnaz': {}, 'seg\\xc3\\xa2h': {}, 'dik hisar': {}, 'd\\xc3\\xbcg\\xc3\\xa2h': {}, 'tiz dik m\\xc3\\xa2hur': {}, 'tiz hisar': {}, 'nev\\xc3\\xa2': {}, 'gev\\xc5\\x9fet': {}, 'nim hicaz': {}, 'tiz acem': {}, 'dik m\\xc3\\xa2hur': {}, 'tiz hicaz': {}}\n"
     ]
    }
   ],
   "source": [
    "pitch = json.load(open(\"sample_data/63709068-3eb2-4ff1-9fa6-a3eb14166a36.json\", 'r'))['pitch']\n",
    "tonic_identifier = TonicLastNote()\n",
    "tonic, pitch, pitch_chunks, distribution, sp = tonic_identifier.identify(pitch)\n",
    "tonicHz = tonic[\"value\"]\n",
    "recMakam = \"ussak\"\n",
    "nm = NoteModel()\n",
    "print nm.calculate_notes(distribution, tonicHz, recMakam)"
   ]
  },
  {
   "cell_type": "code",
   "execution_count": null,
   "metadata": {
    "collapsed": true
   },
   "outputs": [],
   "source": []
  }
 ],
 "metadata": {
  "kernelspec": {
   "display_name": "Python 2",
   "language": "python",
   "name": "python2"
  },
  "language_info": {
   "codemirror_mode": {
    "name": "ipython",
    "version": 2
   },
   "file_extension": ".py",
   "mimetype": "text/x-python",
   "name": "python",
   "nbconvert_exporter": "python",
   "pygments_lexer": "ipython2",
   "version": "2.7.6"
  }
 },
 "nbformat": 4,
 "nbformat_minor": 0
}
